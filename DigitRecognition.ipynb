{
 "cells": [
  {
   "cell_type": "code",
   "execution_count": 1,
   "metadata": {},
   "outputs": [],
   "source": [
    "import pandas as pd"
   ]
  },
  {
   "cell_type": "code",
   "execution_count": 2,
   "metadata": {},
   "outputs": [],
   "source": [
    "df_train = pd.read_csv('DigitsDataset/train.csv')\n",
    "df_test = pd.read_csv('DigitsDataset/test.csv')\n",
    "df_sub = pd.read_csv('DigitsDataset/sample.csv')"
   ]
  },
  {
   "cell_type": "code",
   "execution_count": 3,
   "metadata": {},
   "outputs": [
    {
     "data": {
      "text/html": [
       "<div>\n",
       "<style scoped>\n",
       "    .dataframe tbody tr th:only-of-type {\n",
       "        vertical-align: middle;\n",
       "    }\n",
       "\n",
       "    .dataframe tbody tr th {\n",
       "        vertical-align: top;\n",
       "    }\n",
       "\n",
       "    .dataframe thead th {\n",
       "        text-align: right;\n",
       "    }\n",
       "</style>\n",
       "<table border=\"1\" class=\"dataframe\">\n",
       "  <thead>\n",
       "    <tr style=\"text-align: right;\">\n",
       "      <th></th>\n",
       "      <th>filename</th>\n",
       "      <th>label</th>\n",
       "    </tr>\n",
       "  </thead>\n",
       "  <tbody>\n",
       "    <tr>\n",
       "      <th>0</th>\n",
       "      <td>0.png</td>\n",
       "      <td>4</td>\n",
       "    </tr>\n",
       "    <tr>\n",
       "      <th>1</th>\n",
       "      <td>1.png</td>\n",
       "      <td>9</td>\n",
       "    </tr>\n",
       "    <tr>\n",
       "      <th>2</th>\n",
       "      <td>2.png</td>\n",
       "      <td>1</td>\n",
       "    </tr>\n",
       "    <tr>\n",
       "      <th>3</th>\n",
       "      <td>3.png</td>\n",
       "      <td>7</td>\n",
       "    </tr>\n",
       "    <tr>\n",
       "      <th>4</th>\n",
       "      <td>4.png</td>\n",
       "      <td>3</td>\n",
       "    </tr>\n",
       "    <tr>\n",
       "      <th>...</th>\n",
       "      <td>...</td>\n",
       "      <td>...</td>\n",
       "    </tr>\n",
       "    <tr>\n",
       "      <th>48995</th>\n",
       "      <td>48995.png</td>\n",
       "      <td>2</td>\n",
       "    </tr>\n",
       "    <tr>\n",
       "      <th>48996</th>\n",
       "      <td>48996.png</td>\n",
       "      <td>4</td>\n",
       "    </tr>\n",
       "    <tr>\n",
       "      <th>48997</th>\n",
       "      <td>48997.png</td>\n",
       "      <td>9</td>\n",
       "    </tr>\n",
       "    <tr>\n",
       "      <th>48998</th>\n",
       "      <td>48998.png</td>\n",
       "      <td>3</td>\n",
       "    </tr>\n",
       "    <tr>\n",
       "      <th>48999</th>\n",
       "      <td>48999.png</td>\n",
       "      <td>0</td>\n",
       "    </tr>\n",
       "  </tbody>\n",
       "</table>\n",
       "<p>49000 rows × 2 columns</p>\n",
       "</div>"
      ],
      "text/plain": [
       "        filename  label\n",
       "0          0.png      4\n",
       "1          1.png      9\n",
       "2          2.png      1\n",
       "3          3.png      7\n",
       "4          4.png      3\n",
       "...          ...    ...\n",
       "48995  48995.png      2\n",
       "48996  48996.png      4\n",
       "48997  48997.png      9\n",
       "48998  48998.png      3\n",
       "48999  48999.png      0\n",
       "\n",
       "[49000 rows x 2 columns]"
      ]
     },
     "execution_count": 3,
     "metadata": {},
     "output_type": "execute_result"
    }
   ],
   "source": [
    "df_train"
   ]
  },
  {
   "cell_type": "code",
   "execution_count": 4,
   "metadata": {},
   "outputs": [
    {
     "name": "stderr",
     "output_type": "stream",
     "text": [
      "Using TensorFlow backend.\n"
     ]
    }
   ],
   "source": [
    "from keras.preprocessing import image"
   ]
  },
  {
   "cell_type": "code",
   "execution_count": 5,
   "metadata": {},
   "outputs": [],
   "source": [
    "from tqdm import tqdm"
   ]
  },
  {
   "cell_type": "code",
   "execution_count": 6,
   "metadata": {},
   "outputs": [
    {
     "name": "stderr",
     "output_type": "stream",
     "text": [
      "  0%|          | 0/49000 [00:00<?, ?it/s]/home/harish/my_project_dir/my_project_env/lib/python3.7/site-packages/keras_preprocessing/image/utils.py:104: UserWarning: grayscale is deprecated. Please use color_mode = \"grayscale\"\n",
      "  warnings.warn('grayscale is deprecated. Please use '\n",
      "100%|██████████| 49000/49000 [00:36<00:00, 1336.97it/s]\n"
     ]
    }
   ],
   "source": [
    "import numpy as np\n",
    "train_image = []\n",
    "for i in tqdm(range(df_train.shape[0])):\n",
    "  img = image.load_img('DigitsDataset/train/' + df_train['filename'][i] , target_size = (28,28,1),grayscale = True)\n",
    "  img = image.img_to_array(img)\n",
    "  img = img/255\n",
    "  train_image.append(img)\n",
    "X = np.array(train_image)"
   ]
  },
  {
   "cell_type": "code",
   "execution_count": 7,
   "metadata": {},
   "outputs": [],
   "source": [
    "res = X.tolist()"
   ]
  },
  {
   "cell_type": "code",
   "execution_count": 8,
   "metadata": {},
   "outputs": [],
   "source": [
    "df_train['filename'] = res"
   ]
  },
  {
   "cell_type": "code",
   "execution_count": 10,
   "metadata": {},
   "outputs": [],
   "source": [
    "from keras.utils import to_categorical"
   ]
  },
  {
   "cell_type": "code",
   "execution_count": 11,
   "metadata": {},
   "outputs": [],
   "source": [
    "from sklearn.model_selection import train_test_split"
   ]
  },
  {
   "cell_type": "code",
   "execution_count": 14,
   "metadata": {},
   "outputs": [],
   "source": [
    "y=df_train['label'].values\n",
    "y = to_categorical(y)"
   ]
  },
  {
   "cell_type": "code",
   "execution_count": 17,
   "metadata": {},
   "outputs": [],
   "source": [
    "X_train, X_test, y_train, y_test = train_test_split(X, y, random_state=42, test_size=0.2)"
   ]
  },
  {
   "cell_type": "code",
   "execution_count": 18,
   "metadata": {},
   "outputs": [],
   "source": [
    "from keras.models import Sequential\n",
    "from keras.layers import Dense, Dropout, Flatten\n",
    "from keras.layers import Conv2D, MaxPooling2D\n",
    "model = Sequential()\n",
    "model.add(Conv2D(32, kernel_size=(3, 3),activation='relu',input_shape=(28,28,1)))\n",
    "model.add(MaxPooling2D(pool_size=(2, 2)))\n",
    "\n",
    "model.add(Conv2D(32, kernel_size=(3, 3),activation='relu'))\n",
    "model.add(MaxPooling2D(pool_size=(2, 2)))\n",
    "\n",
    "model.add(Conv2D(64, (3, 3), activation='relu'))\n",
    "model.add(MaxPooling2D(pool_size=(2, 2)))\n",
    "\n",
    "model.add(Dropout(0.25))\n",
    "model.add(Flatten())\n",
    "model.add(Dense(128, activation='relu'))\n",
    "model.add(Dropout(0.5))\n",
    "model.add(Dense(10, activation='softmax'))"
   ]
  },
  {
   "cell_type": "code",
   "execution_count": null,
   "metadata": {},
   "outputs": [],
   "source": []
  },
  {
   "cell_type": "code",
   "execution_count": 19,
   "metadata": {},
   "outputs": [],
   "source": [
    "model.compile(loss='categorical_crossentropy',optimizer='Adam',metrics=['accuracy'])"
   ]
  },
  {
   "cell_type": "code",
   "execution_count": 20,
   "metadata": {},
   "outputs": [
    {
     "name": "stdout",
     "output_type": "stream",
     "text": [
      "Train on 39200 samples, validate on 9800 samples\n",
      "Epoch 1/20\n",
      "39200/39200 [==============================] - 20s 501us/step - loss: 0.5089 - accuracy: 0.8391 - val_loss: 0.1339 - val_accuracy: 0.9567\n",
      "Epoch 2/20\n",
      "39200/39200 [==============================] - 19s 485us/step - loss: 0.1807 - accuracy: 0.9474 - val_loss: 0.0854 - val_accuracy: 0.9746\n",
      "Epoch 3/20\n",
      "39200/39200 [==============================] - 16s 410us/step - loss: 0.1369 - accuracy: 0.9603 - val_loss: 0.0921 - val_accuracy: 0.9708\n",
      "Epoch 4/20\n",
      "39200/39200 [==============================] - 16s 404us/step - loss: 0.1138 - accuracy: 0.9674 - val_loss: 0.0654 - val_accuracy: 0.9803\n",
      "Epoch 5/20\n",
      "39200/39200 [==============================] - 18s 465us/step - loss: 0.0999 - accuracy: 0.9714 - val_loss: 0.0633 - val_accuracy: 0.9822\n",
      "Epoch 6/20\n",
      "39200/39200 [==============================] - 18s 451us/step - loss: 0.0910 - accuracy: 0.9746 - val_loss: 0.0771 - val_accuracy: 0.9776\n",
      "Epoch 7/20\n",
      "39200/39200 [==============================] - 16s 412us/step - loss: 0.0818 - accuracy: 0.9761 - val_loss: 0.0551 - val_accuracy: 0.9829\n",
      "Epoch 8/20\n",
      "39200/39200 [==============================] - 16s 396us/step - loss: 0.0709 - accuracy: 0.9796 - val_loss: 0.0617 - val_accuracy: 0.9819\n",
      "Epoch 9/20\n",
      "39200/39200 [==============================] - 17s 446us/step - loss: 0.0672 - accuracy: 0.9798 - val_loss: 0.0550 - val_accuracy: 0.9842\n",
      "Epoch 10/20\n",
      "39200/39200 [==============================] - 18s 449us/step - loss: 0.0607 - accuracy: 0.9813 - val_loss: 0.0493 - val_accuracy: 0.9862\n",
      "Epoch 11/20\n",
      "39200/39200 [==============================] - 18s 461us/step - loss: 0.0581 - accuracy: 0.9825 - val_loss: 0.0647 - val_accuracy: 0.9833\n",
      "Epoch 12/20\n",
      "39200/39200 [==============================] - 18s 457us/step - loss: 0.0534 - accuracy: 0.9843 - val_loss: 0.0536 - val_accuracy: 0.9855\n",
      "Epoch 13/20\n",
      "39200/39200 [==============================] - 18s 459us/step - loss: 0.0480 - accuracy: 0.9859 - val_loss: 0.0539 - val_accuracy: 0.9864\n",
      "Epoch 14/20\n",
      "39200/39200 [==============================] - 18s 462us/step - loss: 0.0505 - accuracy: 0.9851 - val_loss: 0.0525 - val_accuracy: 0.9849\n",
      "Epoch 15/20\n",
      "39200/39200 [==============================] - 18s 457us/step - loss: 0.0462 - accuracy: 0.9865 - val_loss: 0.0570 - val_accuracy: 0.9844\n",
      "Epoch 16/20\n",
      "39200/39200 [==============================] - 18s 471us/step - loss: 0.0451 - accuracy: 0.9869 - val_loss: 0.0619 - val_accuracy: 0.9845\n",
      "Epoch 17/20\n",
      "39200/39200 [==============================] - 19s 474us/step - loss: 0.0405 - accuracy: 0.9873 - val_loss: 0.0588 - val_accuracy: 0.9849\n",
      "Epoch 18/20\n",
      "39200/39200 [==============================] - 19s 481us/step - loss: 0.0383 - accuracy: 0.9885 - val_loss: 0.0556 - val_accuracy: 0.9858\n",
      "Epoch 19/20\n",
      "39200/39200 [==============================] - 19s 473us/step - loss: 0.0394 - accuracy: 0.9880 - val_loss: 0.0574 - val_accuracy: 0.9858\n",
      "Epoch 20/20\n",
      "39200/39200 [==============================] - 18s 468us/step - loss: 0.0384 - accuracy: 0.9878 - val_loss: 0.0554 - val_accuracy: 0.9853\n"
     ]
    },
    {
     "data": {
      "text/plain": [
       "<keras.callbacks.callbacks.History at 0x7faee054afd0>"
      ]
     },
     "execution_count": 20,
     "metadata": {},
     "output_type": "execute_result"
    }
   ],
   "source": [
    "model.fit(X_train, y_train, epochs=20, validation_data=(X_test, y_test))"
   ]
  },
  {
   "cell_type": "code",
   "execution_count": 21,
   "metadata": {},
   "outputs": [
    {
     "data": {
      "text/html": [
       "<div>\n",
       "<style scoped>\n",
       "    .dataframe tbody tr th:only-of-type {\n",
       "        vertical-align: middle;\n",
       "    }\n",
       "\n",
       "    .dataframe tbody tr th {\n",
       "        vertical-align: top;\n",
       "    }\n",
       "\n",
       "    .dataframe thead th {\n",
       "        text-align: right;\n",
       "    }\n",
       "</style>\n",
       "<table border=\"1\" class=\"dataframe\">\n",
       "  <thead>\n",
       "    <tr style=\"text-align: right;\">\n",
       "      <th></th>\n",
       "      <th>filename</th>\n",
       "    </tr>\n",
       "  </thead>\n",
       "  <tbody>\n",
       "    <tr>\n",
       "      <th>0</th>\n",
       "      <td>49000.png</td>\n",
       "    </tr>\n",
       "    <tr>\n",
       "      <th>1</th>\n",
       "      <td>49001.png</td>\n",
       "    </tr>\n",
       "    <tr>\n",
       "      <th>2</th>\n",
       "      <td>49002.png</td>\n",
       "    </tr>\n",
       "    <tr>\n",
       "      <th>3</th>\n",
       "      <td>49003.png</td>\n",
       "    </tr>\n",
       "    <tr>\n",
       "      <th>4</th>\n",
       "      <td>49004.png</td>\n",
       "    </tr>\n",
       "    <tr>\n",
       "      <th>...</th>\n",
       "      <td>...</td>\n",
       "    </tr>\n",
       "    <tr>\n",
       "      <th>20995</th>\n",
       "      <td>69995.png</td>\n",
       "    </tr>\n",
       "    <tr>\n",
       "      <th>20996</th>\n",
       "      <td>69996.png</td>\n",
       "    </tr>\n",
       "    <tr>\n",
       "      <th>20997</th>\n",
       "      <td>69997.png</td>\n",
       "    </tr>\n",
       "    <tr>\n",
       "      <th>20998</th>\n",
       "      <td>69998.png</td>\n",
       "    </tr>\n",
       "    <tr>\n",
       "      <th>20999</th>\n",
       "      <td>69999.png</td>\n",
       "    </tr>\n",
       "  </tbody>\n",
       "</table>\n",
       "<p>21000 rows × 1 columns</p>\n",
       "</div>"
      ],
      "text/plain": [
       "        filename\n",
       "0      49000.png\n",
       "1      49001.png\n",
       "2      49002.png\n",
       "3      49003.png\n",
       "4      49004.png\n",
       "...          ...\n",
       "20995  69995.png\n",
       "20996  69996.png\n",
       "20997  69997.png\n",
       "20998  69998.png\n",
       "20999  69999.png\n",
       "\n",
       "[21000 rows x 1 columns]"
      ]
     },
     "execution_count": 21,
     "metadata": {},
     "output_type": "execute_result"
    }
   ],
   "source": [
    "df_test"
   ]
  },
  {
   "cell_type": "code",
   "execution_count": 22,
   "metadata": {},
   "outputs": [
    {
     "name": "stderr",
     "output_type": "stream",
     "text": [
      "  0%|          | 0/21000 [00:00<?, ?it/s]/home/harish/my_project_dir/my_project_env/lib/python3.7/site-packages/keras_preprocessing/image/utils.py:104: UserWarning: grayscale is deprecated. Please use color_mode = \"grayscale\"\n",
      "  warnings.warn('grayscale is deprecated. Please use '\n",
      "100%|██████████| 21000/21000 [00:10<00:00, 1909.43it/s]\n"
     ]
    }
   ],
   "source": [
    "test_image = []\n",
    "for i in tqdm(range(df_test.shape[0])):\n",
    "  img  = image.load_img('DigitsDataset/test/' + df_test['filename'][i] , target_size = (28,28,1),grayscale=True)\n",
    "  img = image.img_to_array(img)\n",
    "  img = img/255\n",
    "  test_image.append(img)\n",
    "\n",
    "X1 = np.array(test_image)"
   ]
  },
  {
   "cell_type": "code",
   "execution_count": 23,
   "metadata": {},
   "outputs": [],
   "source": [
    "pred = model.predict_classes(X1)"
   ]
  },
  {
   "cell_type": "code",
   "execution_count": 24,
   "metadata": {},
   "outputs": [],
   "source": [
    "prediction = pred.tolist()"
   ]
  },
  {
   "cell_type": "code",
   "execution_count": 25,
   "metadata": {},
   "outputs": [
    {
     "data": {
      "text/html": [
       "<div>\n",
       "<style scoped>\n",
       "    .dataframe tbody tr th:only-of-type {\n",
       "        vertical-align: middle;\n",
       "    }\n",
       "\n",
       "    .dataframe tbody tr th {\n",
       "        vertical-align: top;\n",
       "    }\n",
       "\n",
       "    .dataframe thead th {\n",
       "        text-align: right;\n",
       "    }\n",
       "</style>\n",
       "<table border=\"1\" class=\"dataframe\">\n",
       "  <thead>\n",
       "    <tr style=\"text-align: right;\">\n",
       "      <th></th>\n",
       "      <th>filename</th>\n",
       "      <th>label</th>\n",
       "    </tr>\n",
       "  </thead>\n",
       "  <tbody>\n",
       "    <tr>\n",
       "      <th>0</th>\n",
       "      <td>49000.png</td>\n",
       "      <td>0</td>\n",
       "    </tr>\n",
       "    <tr>\n",
       "      <th>1</th>\n",
       "      <td>49001.png</td>\n",
       "      <td>0</td>\n",
       "    </tr>\n",
       "    <tr>\n",
       "      <th>2</th>\n",
       "      <td>49002.png</td>\n",
       "      <td>0</td>\n",
       "    </tr>\n",
       "    <tr>\n",
       "      <th>3</th>\n",
       "      <td>49003.png</td>\n",
       "      <td>0</td>\n",
       "    </tr>\n",
       "    <tr>\n",
       "      <th>4</th>\n",
       "      <td>49004.png</td>\n",
       "      <td>0</td>\n",
       "    </tr>\n",
       "    <tr>\n",
       "      <th>...</th>\n",
       "      <td>...</td>\n",
       "      <td>...</td>\n",
       "    </tr>\n",
       "    <tr>\n",
       "      <th>20995</th>\n",
       "      <td>69995.png</td>\n",
       "      <td>0</td>\n",
       "    </tr>\n",
       "    <tr>\n",
       "      <th>20996</th>\n",
       "      <td>69996.png</td>\n",
       "      <td>0</td>\n",
       "    </tr>\n",
       "    <tr>\n",
       "      <th>20997</th>\n",
       "      <td>69997.png</td>\n",
       "      <td>0</td>\n",
       "    </tr>\n",
       "    <tr>\n",
       "      <th>20998</th>\n",
       "      <td>69998.png</td>\n",
       "      <td>0</td>\n",
       "    </tr>\n",
       "    <tr>\n",
       "      <th>20999</th>\n",
       "      <td>69999.png</td>\n",
       "      <td>0</td>\n",
       "    </tr>\n",
       "  </tbody>\n",
       "</table>\n",
       "<p>21000 rows × 2 columns</p>\n",
       "</div>"
      ],
      "text/plain": [
       "        filename  label\n",
       "0      49000.png      0\n",
       "1      49001.png      0\n",
       "2      49002.png      0\n",
       "3      49003.png      0\n",
       "4      49004.png      0\n",
       "...          ...    ...\n",
       "20995  69995.png      0\n",
       "20996  69996.png      0\n",
       "20997  69997.png      0\n",
       "20998  69998.png      0\n",
       "20999  69999.png      0\n",
       "\n",
       "[21000 rows x 2 columns]"
      ]
     },
     "execution_count": 25,
     "metadata": {},
     "output_type": "execute_result"
    }
   ],
   "source": [
    "df_sub"
   ]
  },
  {
   "cell_type": "code",
   "execution_count": 26,
   "metadata": {},
   "outputs": [],
   "source": [
    "df_sub['label'] = prediction"
   ]
  },
  {
   "cell_type": "code",
   "execution_count": 28,
   "metadata": {},
   "outputs": [],
   "source": [
    "df_sub.to_csv('digit_result.csv',index=False)"
   ]
  },
  {
   "cell_type": "code",
   "execution_count": null,
   "metadata": {},
   "outputs": [],
   "source": []
  }
 ],
 "metadata": {
  "kernelspec": {
   "display_name": "Python 3",
   "language": "python",
   "name": "python3"
  },
  "language_info": {
   "codemirror_mode": {
    "name": "ipython",
    "version": 3
   },
   "file_extension": ".py",
   "mimetype": "text/x-python",
   "name": "python",
   "nbconvert_exporter": "python",
   "pygments_lexer": "ipython3",
   "version": "3.7.3"
  }
 },
 "nbformat": 4,
 "nbformat_minor": 4
}
